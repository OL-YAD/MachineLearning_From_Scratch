{
 "cells": [
  {
   "cell_type": "markdown",
   "id": "7b789fb0",
   "metadata": {},
   "source": [
    "# Support Vector Machine From Scratch"
   ]
  },
  {
   "cell_type": "markdown",
   "id": "2d76b847",
   "metadata": {},
   "source": [
    "## 1. Imports"
   ]
  },
  {
   "cell_type": "code",
   "execution_count": 102,
   "id": "a638dcef",
   "metadata": {},
   "outputs": [],
   "source": [
    "import pandas as pd\n",
    "import numpy as np\n",
    "from numpy import linalg as LA\n",
    "\n",
    "from sklearn.datasets import make_blobs\n",
    "import matplotlib.pyplot as plt\n",
    "import seaborn as sns"
   ]
  },
  {
   "cell_type": "markdown",
   "id": "aa2d0edb",
   "metadata": {},
   "source": [
    "## 1.1 To ignore all the warnings"
   ]
  },
  {
   "cell_type": "code",
   "execution_count": 103,
   "id": "182949f7",
   "metadata": {},
   "outputs": [],
   "source": [
    "import warnings\n",
    "warnings.filterwarnings('ignore')"
   ]
  },
  {
   "cell_type": "markdown",
   "id": "98199e95",
   "metadata": {},
   "source": [
    "## 2.0 Building the classification dataset"
   ]
  },
  {
   "cell_type": "code",
   "execution_count": 111,
   "id": "a6f59ee5",
   "metadata": {},
   "outputs": [],
   "source": [
    "# building the dataset\n",
    "X, y = make_blobs(n_samples=20, \n",
    "                  centers=2,\n",
    "                  cluster_std=0.9, \n",
    "                  n_features=2, \n",
    "                  random_state=1234)"
   ]
  },
  {
   "cell_type": "code",
   "execution_count": 112,
   "id": "8b589592",
   "metadata": {},
   "outputs": [],
   "source": [
    "# y should only have +1 and -1\n",
    "y[y==0] = -1"
   ]
  },
  {
   "cell_type": "markdown",
   "id": "4dd3869b",
   "metadata": {},
   "source": [
    "## 2.1 Checking out the shape of the Input and Ouput Variables"
   ]
  },
  {
   "cell_type": "code",
   "execution_count": 113,
   "id": "dca3ed6d",
   "metadata": {},
   "outputs": [
    {
     "name": "stdout",
     "output_type": "stream",
     "text": [
      "Input variable shape:  (20, 2)\n",
      "Output variable shape:  (20,)\n"
     ]
    }
   ],
   "source": [
    "# shapes of the arrays\n",
    "print(\"Input variable shape: \", X.shape)\n",
    "print(\"Output variable shape: \", y.shape)"
   ]
  },
  {
   "cell_type": "markdown",
   "id": "f1e34c39",
   "metadata": {},
   "source": [
    "## 3.0 Visualization of our data"
   ]
  },
  {
   "cell_type": "code",
   "execution_count": 114,
   "id": "15e281a0",
   "metadata": {},
   "outputs": [],
   "source": [
    "# building a dataframe\n",
    "data = {}\n",
    "for i in range(0, X.shape[1]):\n",
    "    data[f\"f{i + 1}\"] = X[:, i]\n",
    "data[\"class\"] = y\n",
    "\n",
    "df = pd.DataFrame(data = data)"
   ]
  },
  {
   "cell_type": "code",
   "execution_count": 115,
   "id": "2a8e52ab",
   "metadata": {},
   "outputs": [
    {
     "data": {
      "image/png": "[encoded data removed]",
      "text/plain": [
       "<Figure size 478x432 with 1 Axes>"
      ]
     },
     "metadata": {},
     "output_type": "display_data"
    }
   ],
   "source": [
    "sns.set_style(\"whitegrid\")\n",
    "sns.FacetGrid(df,\n",
    "             hue= \"class\",\n",
    "             height=6).map(plt.scatter, \"f1\", \"f2\").add_legend()\n",
    "plt.show()"
   ]
  },
  {
   "cell_type": "markdown",
   "id": "f6c7956f",
   "metadata": {},
   "source": [
    "## 3.1 SVM implementation"
   ]
  },
  {
   "cell_type": "code",
   "execution_count": 122,
   "id": "73ff9bbc",
   "metadata": {},
   "outputs": [],
   "source": [
    "def SVM(input_vars = None, \n",
    "        output_vars =None,\n",
    "        learning_rate = 0.001,\n",
    "        C = 1,\n",
    "        iteration = 500, \n",
    "        verbose = True):\n",
    "    \n",
    "    w = np.random.normal(loc = 0.0, scale = 0.02, size = input_vars.shape[-1])\n",
    "    b = np.random.normal(loc = 0.0, scale = 0.02, size = 1)\n",
    "    \n",
    "    # building a dataframe\n",
    "    data = {}\n",
    "    for i in range(0, input_vars.shape[1]):\n",
    "        data[f\"f{i + 1}\"] = input_vars[:, i]\n",
    "    data[\"class\"] = output_vars\n",
    "    \n",
    "\n",
    "    \n",
    "    \n",
    "    for _ in range(iteration + 1):\n",
    "        if verbose and (_ % 100) == 0:\n",
    "            hinge_loss = np.sum((1 - ((np.dot(input_vars,  w) - b) * output_vars))) + (C * LA.norm(w, ord = 2))\n",
    "            y_pred = np.sign(np.dot(input_vars, w) - b)\n",
    "            accuracy = (np.sum(y_pred == y) / y.shape[0]) * 100\n",
    "            print(f\"Iteration : {_}, Hinge Loss: {round(hinge_loss, 2)}, Accuracy: {accuracy}\")\n",
    "            \n",
    "            \n",
    "        for index, point in enumerate(input_vars):\n",
    "            if output_vars[index] * (np.dot(point, w) - b) >= 1:\n",
    "                dw = 2 * C * w\n",
    "                db = 0\n",
    "            else:\n",
    "                dw = (2 * C * w) - (point * output_vars[index])\n",
    "                db = output_vars[index]\n",
    "                \n",
    "            w -= learning_rate * dw\n",
    "            b -= learning_rate * db\n",
    "            \n",
    "            \n",
    "    # getting the leftmost x, y value\n",
    "    leftmost = np.min(input_vars[:, 0])\n",
    "    # getting the right most x, y value\n",
    "    rightmost = np.max(input_vars[:, 0])\n",
    "    # stacking them horizontally\n",
    "    x_points = np.hstack([leftmost, rightmost])\n",
    "    y_points = (-w[0] * x_points + b) / w[1]\n",
    "\n",
    "    df = pd.DataFrame(data = data)\n",
    "    sns.set_style(\"whitegrid\")\n",
    "    sns.FacetGrid(df,\n",
    "                 hue= \"class\",\n",
    "                 height=6).map(plt.scatter, \"f1\", \"f2\").add_legend()\n",
    "    sns.lineplot(x_points, y_points, color = \"black\")\n",
    "    plt.show()\n",
    "    \n",
    "    return w, b"
   ]
  },
  {
   "cell_type": "markdown",
   "id": "045c0260",
   "metadata": {},
   "source": [
    "## 3.2 Training the model "
   ]
  },
  {
   "cell_type": "code",
   "execution_count": 125,
   "id": "40bed0cc",
   "metadata": {},
   "outputs": [
    {
     "name": "stdout",
     "output_type": "stream",
     "text": [
      "Iteration : 0, Hinge Loss: 19.52, Accuracy: 50.0\n",
      "Iteration : 100, Hinge Loss: 19.14, Accuracy: 50.0\n",
      "Iteration : 200, Hinge Loss: 18.76, Accuracy: 50.0\n",
      "Iteration : 300, Hinge Loss: 18.38, Accuracy: 50.0\n",
      "Iteration : 400, Hinge Loss: 18.0, Accuracy: 50.0\n",
      "Iteration : 500, Hinge Loss: 17.62, Accuracy: 50.0\n",
      "Iteration : 600, Hinge Loss: 17.25, Accuracy: 50.0\n",
      "Iteration : 700, Hinge Loss: 16.87, Accuracy: 50.0\n",
      "Iteration : 800, Hinge Loss: 16.49, Accuracy: 50.0\n",
      "Iteration : 900, Hinge Loss: 16.11, Accuracy: 55.00000000000001\n",
      "Iteration : 1000, Hinge Loss: 15.73, Accuracy: 65.0\n",
      "Iteration : 1100, Hinge Loss: 15.35, Accuracy: 70.0\n",
      "Iteration : 1200, Hinge Loss: 14.97, Accuracy: 70.0\n",
      "Iteration : 1300, Hinge Loss: 14.59, Accuracy: 75.0\n",
      "Iteration : 1400, Hinge Loss: 14.21, Accuracy: 75.0\n",
      "Iteration : 1500, Hinge Loss: 13.83, Accuracy: 85.0\n",
      "Iteration : 1600, Hinge Loss: 13.45, Accuracy: 90.0\n",
      "Iteration : 1700, Hinge Loss: 13.07, Accuracy: 90.0\n",
      "Iteration : 1800, Hinge Loss: 12.69, Accuracy: 95.0\n",
      "Iteration : 1900, Hinge Loss: 12.31, Accuracy: 95.0\n",
      "Iteration : 2000, Hinge Loss: 11.93, Accuracy: 100.0\n",
      "Iteration : 2100, Hinge Loss: 11.55, Accuracy: 100.0\n",
      "Iteration : 2200, Hinge Loss: 11.17, Accuracy: 100.0\n",
      "Iteration : 2300, Hinge Loss: 10.79, Accuracy: 100.0\n",
      "Iteration : 2400, Hinge Loss: 10.41, Accuracy: 100.0\n",
      "Iteration : 2500, Hinge Loss: 10.03, Accuracy: 100.0\n",
      "Iteration : 2600, Hinge Loss: 9.65, Accuracy: 100.0\n",
      "Iteration : 2700, Hinge Loss: 9.27, Accuracy: 100.0\n",
      "Iteration : 2800, Hinge Loss: 8.92, Accuracy: 100.0\n",
      "Iteration : 2900, Hinge Loss: 8.57, Accuracy: 100.0\n",
      "Iteration : 3000, Hinge Loss: 8.22, Accuracy: 100.0\n",
      "Iteration : 3100, Hinge Loss: 7.89, Accuracy: 100.0\n",
      "Iteration : 3200, Hinge Loss: 7.56, Accuracy: 100.0\n",
      "Iteration : 3300, Hinge Loss: 7.28, Accuracy: 100.0\n",
      "Iteration : 3400, Hinge Loss: 7.0, Accuracy: 100.0\n",
      "Iteration : 3500, Hinge Loss: 6.72, Accuracy: 100.0\n",
      "Iteration : 3600, Hinge Loss: 6.44, Accuracy: 100.0\n",
      "Iteration : 3700, Hinge Loss: 6.16, Accuracy: 100.0\n",
      "Iteration : 3800, Hinge Loss: 5.88, Accuracy: 100.0\n",
      "Iteration : 3900, Hinge Loss: 5.62, Accuracy: 100.0\n",
      "Iteration : 4000, Hinge Loss: 5.36, Accuracy: 100.0\n",
      "Iteration : 4100, Hinge Loss: 5.11, Accuracy: 100.0\n",
      "Iteration : 4200, Hinge Loss: 4.85, Accuracy: 100.0\n",
      "Iteration : 4300, Hinge Loss: 4.6, Accuracy: 100.0\n",
      "Iteration : 4400, Hinge Loss: 4.34, Accuracy: 100.0\n",
      "Iteration : 4500, Hinge Loss: 4.1, Accuracy: 100.0\n",
      "Iteration : 4600, Hinge Loss: 3.87, Accuracy: 100.0\n",
      "Iteration : 4700, Hinge Loss: 3.64, Accuracy: 100.0\n",
      "Iteration : 4800, Hinge Loss: 3.41, Accuracy: 100.0\n",
      "Iteration : 4900, Hinge Loss: 3.18, Accuracy: 100.0\n",
      "Iteration : 5000, Hinge Loss: 2.96, Accuracy: 100.0\n",
      "Iteration : 5100, Hinge Loss: 2.76, Accuracy: 100.0\n",
      "Iteration : 5200, Hinge Loss: 2.55, Accuracy: 100.0\n",
      "Iteration : 5300, Hinge Loss: 2.34, Accuracy: 100.0\n",
      "Iteration : 5400, Hinge Loss: 2.14, Accuracy: 100.0\n",
      "Iteration : 5500, Hinge Loss: 1.93, Accuracy: 100.0\n",
      "Iteration : 5600, Hinge Loss: 1.72, Accuracy: 100.0\n",
      "Iteration : 5700, Hinge Loss: 1.52, Accuracy: 100.0\n",
      "Iteration : 5800, Hinge Loss: 1.31, Accuracy: 100.0\n",
      "Iteration : 5900, Hinge Loss: 1.1, Accuracy: 100.0\n",
      "Iteration : 6000, Hinge Loss: 0.92, Accuracy: 100.0\n"
     ]
    },
    {
     "data": {
      "image/png": "[encoded data removed]",
      "text/plain": [
       "<Figure size 478x432 with 1 Axes>"
      ]
     },
     "metadata": {},
     "output_type": "display_data"
    }
   ],
   "source": [
    "w, b = SVM(input_vars = X, \n",
    "        output_vars =y,\n",
    "        learning_rate = 0.000001,\n",
    "        C = 0.0003,\n",
    "        iteration = 6000, \n",
    "        verbose = True)"
   ]
  },
  {
   "cell_type": "markdown",
   "id": "9ed56caf",
   "metadata": {},
   "source": [
    "## 3.3 Learned weights and biases"
   ]
  },
  {
   "cell_type": "code",
   "execution_count": 126,
   "id": "9dcf2f70",
   "metadata": {},
   "outputs": [
    {
     "name": "stdout",
     "output_type": "stream",
     "text": [
      "Weight: [0.2446671  0.19016581]\n",
      "Bias: -0.015540158440605493\n"
     ]
    }
   ],
   "source": [
    "print(\"Weight:\",  w)\n",
    "print(\"Bias:\", b[0])"
   ]
  }
 ],
 "metadata": {
  "kernelspec": {
   "display_name": "Python 3",
   "language": "python",
   "name": "python3"
  },
  "language_info": {
   "codemirror_mode": {
    "name": "ipython",
    "version": 3
   },
   "file_extension": ".py",
   "mimetype": "text/x-python",
   "name": "python",
   "nbconvert_exporter": "python",
   "pygments_lexer": "ipython3",
   "version": "3.8.3"
  }
 },
 "nbformat": 4,
 "nbformat_minor": 5
}
