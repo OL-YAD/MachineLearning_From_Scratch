{
 "cells": [
  {
   "cell_type": "markdown",
   "id": "c752341b",
   "metadata": {},
   "source": [
    "# Polynomial Regression from scratch"
   ]
  },
  {
   "cell_type": "markdown",
   "id": "f1e4f464",
   "metadata": {},
   "source": [
    "## 1.0 Imports"
   ]
  },
  {
   "cell_type": "code",
   "execution_count": 340,
   "id": "8cb9ecd1",
   "metadata": {},
   "outputs": [],
   "source": [
    "import numpy as np\n",
    "import pandas as pd\n",
    "\n",
    "import matplotlib.pyplot as plt\n",
    "import seaborn as sns"
   ]
  },
  {
   "cell_type": "markdown",
   "id": "e245ae1c",
   "metadata": {},
   "source": [
    "## 1.1 Suppressing the warnings"
   ]
  },
  {
   "cell_type": "code",
   "execution_count": 341,
   "id": "0b488a7c",
   "metadata": {},
   "outputs": [],
   "source": [
    "# for suppressing the warnings\n",
    "import warnings\n",
    "warnings.simplefilter(action='ignore', category=FutureWarning)"
   ]
  },
  {
   "cell_type": "markdown",
   "id": "bf4ebb50",
   "metadata": {},
   "source": [
    "## 1.2 Generating the data"
   ]
  },
  {
   "cell_type": "code",
   "execution_count": 349,
   "id": "a0f1812f",
   "metadata": {},
   "outputs": [],
   "source": [
    "np.random.seed(42)\n",
    "X = np.random.rand(50, 1).reshape(50)\n",
    "y = 5*((X)**(2)) + np.random.rand(50,1).reshape(50)"
   ]
  },
  {
   "cell_type": "code",
   "execution_count": 350,
   "id": "5629efaa",
   "metadata": {},
   "outputs": [
    {
     "data": {
      "image/png": "[encoded data removed]",
      "text/plain": [
       "<Figure size 432x288 with 1 Axes>"
      ]
     },
     "metadata": {},
     "output_type": "display_data"
    }
   ],
   "source": [
    "plt.scatter(X, y, color = \"g\");"
   ]
  },
  {
   "cell_type": "markdown",
   "id": "01b32f14",
   "metadata": {},
   "source": [
    "## 2. Polynomial regression implementation"
   ]
  },
  {
   "cell_type": "code",
   "execution_count": 351,
   "id": "017b8201",
   "metadata": {},
   "outputs": [],
   "source": [
    "def polynomial_regression(input_vars = None,\n",
    "                          output_vars = None,\n",
    "                          order = 2,\n",
    "                          learning_rate = 0.001,\n",
    "                          iterations = 500,\n",
    "                           verbose = True):\n",
    "    \n",
    "    # generating new features from the given data\n",
    "    transformed_input_vars = np.zeros((input_vars.shape[0], order))\n",
    "    for col in range(0, order):\n",
    "        transformed_input_vars[:, col] = input_vars ** (col + 1)\n",
    "        \n",
    "    print(\"Features generated..\")\n",
    "    print(\"Shape of input vars: \", transformed_input_vars.shape)\n",
    "    \n",
    "    # initializing the weights and biases\n",
    "    w = np.random.normal(loc = 0.0, scale = 0.02, size = (transformed_input_vars.shape[1]))\n",
    "    b = np.random.normal(loc = 0.0, scale = 0.02, size = 1)\n",
    "    \n",
    "    total_points = transformed_input_vars.shape[0]\n",
    "    \n",
    "    print(\"Starting training...\")\n",
    "    print(\"-\" * 100)\n",
    "    print(\"\\n\" * 2)\n",
    "    for step in range(0, iterations + 1):\n",
    "        \n",
    "        if verbose and step % 500 == 0:\n",
    "            # calculating the loss\n",
    "            y_pred = np.dot(transformed_input_vars, w) + b\n",
    "            loss = np.mean((y_pred - y) ** 2)\n",
    "            print(f\"Iteration: {step}, Loss: {loss}\")\n",
    "        \n",
    "        # computing the gradients of weights\n",
    "        dw = (1 / total_points) * np.dot(transformed_input_vars.T, (y_pred - output_vars))\n",
    "        # computing the gradients of biases\n",
    "        db = (1 / total_points) * np.sum((y_pred - y))\n",
    "        \n",
    "        # updating the weights\n",
    "        w -= learning_rate * dw\n",
    "        b -= learning_rate * db\n",
    "\n",
    "\n",
    "    y_pred =  np.dot(transformed_input_vars, w) + b\n",
    "    plt.figure(figsize = (12, 8))\n",
    "    plt.scatter(input_vars, output_vars, s = 20, label = \"data\")\n",
    "    plt.scatter(input_vars, y_pred, s = 50, color = \"red\", marker = \".\", label = \"prediction\")\n",
    "    plt.legend(loc='best')\n",
    "    plt.show()\n",
    "    \n",
    "    return w, b"
   ]
  },
  {
   "cell_type": "markdown",
   "id": "43a71d51",
   "metadata": {},
   "source": [
    "## 3.0 Training the model"
   ]
  },
  {
   "cell_type": "markdown",
   "id": "20fb3cbf",
   "metadata": {},
   "source": [
    "Training the polynomial regression model using a order of 4"
   ]
  },
  {
   "cell_type": "code",
   "execution_count": 352,
   "id": "8c99dd50",
   "metadata": {},
   "outputs": [
    {
     "name": "stdout",
     "output_type": "stream",
     "text": [
      "Features generated..\n",
      "Shape of input vars:  (50, 3)\n",
      "Starting training...\n",
      "----------------------------------------------------------------------------------------------------\n",
      "\n",
      "\n",
      "\n",
      "Iteration: 0, Loss: 5.9386194470376585\n",
      "Iteration: 500, Loss: 1.3677505792558478\n",
      "Iteration: 1000, Loss: 0.8085040766540027\n",
      "Iteration: 1500, Loss: 0.6560678823588553\n",
      "Iteration: 2000, Loss: 0.5591827766246766\n",
      "Iteration: 2500, Loss: 0.48124499735396936\n",
      "Iteration: 3000, Loss: 0.4164748026291676\n",
      "Iteration: 3500, Loss: 0.36243970481149085\n",
      "Iteration: 4000, Loss: 0.31734027682691335\n",
      "Iteration: 4500, Loss: 0.2796968714539027\n",
      "Iteration: 5000, Loss: 0.24827661266207024\n",
      "Iteration: 5500, Loss: 0.2220506541711671\n",
      "Iteration: 6000, Loss: 0.20016026102538864\n",
      "Iteration: 6500, Loss: 0.18188866826545272\n",
      "Iteration: 7000, Loss: 0.1666376083674092\n",
      "Iteration: 7500, Loss: 0.15390772080128864\n",
      "Iteration: 8000, Loss: 0.14328220047980103\n",
      "Iteration: 8500, Loss: 0.13441314949840588\n",
      "Iteration: 9000, Loss: 0.12701018523899416\n",
      "Iteration: 9500, Loss: 0.12083093180855027\n",
      "Iteration: 10000, Loss: 0.1156730834554199\n"
     ]
    },
    {
     "data": {
      "image/png": "[encoded data removed]",
      "text/plain": [
       "<Figure size 864x576 with 1 Axes>"
      ]
     },
     "metadata": {},
     "output_type": "display_data"
    }
   ],
   "source": [
    "w, b = polynomial_regression(input_vars = X,\n",
    "                            output_vars = y,\n",
    "                            order = 3,\n",
    "                            learning_rate = 0.001,\n",
    "                            iterations = 10000)"
   ]
  }
 ],
 "metadata": {
  "kernelspec": {
   "display_name": "Python 3",
   "language": "python",
   "name": "python3"
  },
  "language_info": {
   "codemirror_mode": {
    "name": "ipython",
    "version": 3
   },
   "file_extension": ".py",
   "mimetype": "text/x-python",
   "name": "python",
   "nbconvert_exporter": "python",
   "pygments_lexer": "ipython3",
   "version": "3.8.3"
  }
 },
 "nbformat": 4,
 "nbformat_minor": 5
}
