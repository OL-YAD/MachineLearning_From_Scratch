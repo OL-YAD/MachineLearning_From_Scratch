{
 "cells": [
  {
   "cell_type": "markdown",
   "metadata": {},
   "source": [
    "# 1.0 Imports"
   ]
  },
  {
   "cell_type": "code",
   "execution_count": 629,
   "metadata": {},
   "outputs": [],
   "source": [
    "import numpy as np\n",
    "\n",
    "import matplotlib.pyplot as plt\n",
    "plt.style.use('seaborn-whitegrid')\n",
    "\n",
    "from sklearn import datasets"
   ]
  },
  {
   "cell_type": "markdown",
   "metadata": {},
   "source": [
    "## 1.1 Building Regression  Dataset"
   ]
  },
  {
   "cell_type": "code",
   "execution_count": 630,
   "metadata": {},
   "outputs": [],
   "source": [
    "learning_rate = 0.1\n",
    "\n",
    "x, y = datasets.make_regression(n_samples=5, \n",
    "                                n_features=1,\n",
    "                                n_informative=10,\n",
    "                                n_targets=1,\n",
    "                                bias=0.0,\n",
    "                                effective_rank=None, \n",
    "                                tail_strength=0.5,\n",
    "                                noise=0.0, \n",
    "                                shuffle=True,\n",
    "                                coef=False,\n",
    "                                random_state=None)\n",
    "\n",
    "# dimension of the input variables\n",
    "dim_x = x.shape[1]"
   ]
  },
  {
   "cell_type": "code",
   "execution_count": 631,
   "metadata": {},
   "outputs": [
    {
     "name": "stdout",
     "output_type": "stream",
     "text": [
      "[[ 1.31161729]\n",
      " [-0.83984269]\n",
      " [-0.61554255]\n",
      " [-1.12012185]\n",
      " [-0.67744944]]\n"
     ]
    }
   ],
   "source": [
    "print(x)"
   ]
  },
  {
   "cell_type": "code",
   "execution_count": 632,
   "metadata": {},
   "outputs": [
    {
     "name": "stdout",
     "output_type": "stream",
     "text": [
      "[ 72.28356813 -46.28394801 -33.9227093  -61.73020526 -37.33441401]\n"
     ]
    }
   ],
   "source": [
    "print(y)"
   ]
  },
  {
   "cell_type": "markdown",
   "metadata": {},
   "source": [
    "## 1.2 Plotting the data"
   ]
  },
  {
   "cell_type": "code",
   "execution_count": 633,
   "metadata": {},
   "outputs": [
    {
     "data": {
      "image/png": "[encoded data removed]",
      "text/plain": [
       "<Figure size 432x288 with 1 Axes>"
      ]
     },
     "metadata": {},
     "output_type": "display_data"
    }
   ],
   "source": [
    "try:\n",
    "    plt.scatter(x, y);\n",
    "except ValueError:\n",
    "    print(\"Data is not 2 dimensional\");"
   ]
  },
  {
   "cell_type": "markdown",
   "metadata": {},
   "source": [
    "## 1.3 Shape of Input and Output Variables"
   ]
  },
  {
   "cell_type": "code",
   "execution_count": 634,
   "metadata": {},
   "outputs": [
    {
     "name": "stdout",
     "output_type": "stream",
     "text": [
      "(5, 1)\n"
     ]
    }
   ],
   "source": [
    "# total number of points, features\n",
    "print(x.shape)"
   ]
  },
  {
   "cell_type": "code",
   "execution_count": 635,
   "metadata": {},
   "outputs": [
    {
     "name": "stdout",
     "output_type": "stream",
     "text": [
      "(5,)\n"
     ]
    }
   ],
   "source": [
    "# target variables\n",
    "print(y.shape)"
   ]
  },
  {
   "cell_type": "markdown",
   "metadata": {},
   "source": [
    "## 2.  Initializing the weights"
   ]
  },
  {
   "cell_type": "code",
   "execution_count": 636,
   "metadata": {},
   "outputs": [
    {
     "name": "stdout",
     "output_type": "stream",
     "text": [
      "w: [-1.6229819]\n",
      "b: [0.61047117]\n"
     ]
    }
   ],
   "source": [
    "# initializing the weights and biases\n",
    "w = np.random.normal(loc = 0.2, scale = 2, size = (dim_x))\n",
    "b = np.random.normal(loc = 0.2, scale = 2, size = (1))\n",
    "\n",
    "print(\"w:\", w)\n",
    "print(\"b:\", b)"
   ]
  },
  {
   "cell_type": "markdown",
   "metadata": {},
   "source": [
    "## 2.2 Calculation of MSE Loss"
   ]
  },
  {
   "cell_type": "code",
   "execution_count": 637,
   "metadata": {},
   "outputs": [],
   "source": [
    "def MSE(weights = w, bias = b, x_vals = x, y_vals = y):\n",
    "    y_pred = np.add(np.dot(x_vals, weights), bias)     \n",
    "    squared_error = np.sum((y_pred - y)**2)\n",
    "    mean_squared_error = (1/samples) * squared_error\n",
    "    return round(mean_squared_error, 2)"
   ]
  },
  {
   "cell_type": "code",
   "execution_count": 638,
   "metadata": {},
   "outputs": [
    {
     "data": {
      "text/plain": [
       "146.79"
      ]
     },
     "execution_count": 638,
     "metadata": {},
     "output_type": "execute_result"
    }
   ],
   "source": [
    "# MSE for random weights initialisation\n",
    "MSE(weights = w, bias = b, x_vals = x, y_vals = y)"
   ]
  },
  {
   "cell_type": "markdown",
   "metadata": {},
   "source": [
    "##  2.3 Getting Gradients "
   ]
  },
  {
   "cell_type": "code",
   "execution_count": 639,
   "metadata": {},
   "outputs": [],
   "source": [
    "def get_gradients(weights = w, bias = b, data = x):\n",
    "    w_grads = [2/samples * np.sum((y - np.add(np.dot(data, weights), bias))*(-data[:,i])) for i in range(0, dim_x)]\n",
    "    w_grad = np.array(w_grads)\n",
    "    b_grad = 2/samples * np.sum((np.add(np.dot(data, weights), bias) - y))\n",
    "    b_grad = np.array(b_grad)     \n",
    "    return w_grad, b_grad"
   ]
  },
  {
   "cell_type": "markdown",
   "metadata": {},
   "source": [
    "## 3. Performing gradient Descent"
   ]
  },
  {
   "cell_type": "code",
   "execution_count": 640,
   "metadata": {},
   "outputs": [],
   "source": [
    "def gradient_descent(steps = steps, weights = w, bias = b, learning_rate = learning_rate):\n",
    "    MSE_lst = []\n",
    "    for i in range(0, steps+1):\n",
    "        w_grad,b_grad = get_gradients(weights = weights, bias = bias, data = x)\n",
    "        # updating the weights\n",
    "        weights -= learning_rate * w_grad\n",
    "        bias -= learning_rate * b_grad\n",
    "        loss = MSE(weights = w, bias = b, x_vals = x, y_vals = y)\n",
    "        MSE_lst.append(loss)\n",
    "\n",
    "        if i % 40 == 0:\n",
    "            print(f\"STEP {i}, LOSS: {round(loss, 2)}\")\n",
    "    return w, b, MSE_lst"
   ]
  },
  {
   "cell_type": "code",
   "execution_count": 641,
   "metadata": {},
   "outputs": [
    {
     "name": "stdout",
     "output_type": "stream",
     "text": [
      "STEP 0, LOSS: 143.64\n",
      "STEP 40, LOSS: 63.38\n",
      "STEP 80, LOSS: 30.85\n",
      "STEP 120, LOSS: 16.43\n",
      "STEP 160, LOSS: 9.38\n",
      "STEP 200, LOSS: 5.61\n",
      "STEP 240, LOSS: 3.45\n",
      "STEP 280, LOSS: 2.16\n",
      "STEP 320, LOSS: 1.36\n",
      "STEP 360, LOSS: 0.86\n",
      "STEP 400, LOSS: 0.55\n",
      "STEP 440, LOSS: 0.35\n",
      "STEP 480, LOSS: 0.22\n",
      "STEP 520, LOSS: 0.14\n",
      "STEP 560, LOSS: 0.09\n",
      "STEP 600, LOSS: 0.06\n",
      "STEP 640, LOSS: 0.04\n",
      "STEP 680, LOSS: 0.02\n",
      "STEP 720, LOSS: 0.01\n",
      "STEP 760, LOSS: 0.01\n",
      "STEP 800, LOSS: 0.01\n",
      "STEP 840, LOSS: 0.0\n",
      "STEP 880, LOSS: 0.0\n",
      "STEP 920, LOSS: 0.0\n",
      "STEP 960, LOSS: 0.0\n",
      "STEP 1000, LOSS: 0.0\n",
      "STEP 1040, LOSS: 0.0\n",
      "STEP 1080, LOSS: 0.0\n",
      "STEP 1120, LOSS: 0.0\n",
      "STEP 1160, LOSS: 0.0\n",
      "STEP 1200, LOSS: 0.0\n",
      "STEP 1240, LOSS: 0.0\n",
      "STEP 1280, LOSS: 0.0\n",
      "STEP 1320, LOSS: 0.0\n",
      "STEP 1360, LOSS: 0.0\n",
      "STEP 1400, LOSS: 0.0\n",
      "STEP 1440, LOSS: 0.0\n",
      "STEP 1480, LOSS: 0.0\n",
      "STEP 1520, LOSS: 0.0\n",
      "STEP 1560, LOSS: 0.0\n",
      "STEP 1600, LOSS: 0.0\n",
      "STEP 1640, LOSS: 0.0\n",
      "STEP 1680, LOSS: 0.0\n",
      "STEP 1720, LOSS: 0.0\n",
      "STEP 1760, LOSS: 0.0\n",
      "STEP 1800, LOSS: 0.0\n",
      "STEP 1840, LOSS: 0.0\n",
      "STEP 1880, LOSS: 0.0\n",
      "STEP 1920, LOSS: 0.0\n",
      "STEP 1960, LOSS: 0.0\n",
      "STEP 2000, LOSS: 0.0\n",
      "STEP 2040, LOSS: 0.0\n",
      "STEP 2080, LOSS: 0.0\n",
      "STEP 2120, LOSS: 0.0\n",
      "STEP 2160, LOSS: 0.0\n",
      "STEP 2200, LOSS: 0.0\n",
      "STEP 2240, LOSS: 0.0\n",
      "STEP 2280, LOSS: 0.0\n",
      "STEP 2320, LOSS: 0.0\n",
      "STEP 2360, LOSS: 0.0\n",
      "STEP 2400, LOSS: 0.0\n",
      "STEP 2440, LOSS: 0.0\n",
      "STEP 2480, LOSS: 0.0\n",
      "STEP 2520, LOSS: 0.0\n",
      "STEP 2560, LOSS: 0.0\n",
      "STEP 2600, LOSS: 0.0\n",
      "STEP 2640, LOSS: 0.0\n",
      "STEP 2680, LOSS: 0.0\n",
      "STEP 2720, LOSS: 0.0\n",
      "STEP 2760, LOSS: 0.0\n",
      "STEP 2800, LOSS: 0.0\n",
      "STEP 2840, LOSS: 0.0\n",
      "STEP 2880, LOSS: 0.0\n",
      "STEP 2920, LOSS: 0.0\n",
      "STEP 2960, LOSS: 0.0\n",
      "STEP 3000, LOSS: 0.0\n",
      "STEP 3040, LOSS: 0.0\n",
      "STEP 3080, LOSS: 0.0\n",
      "STEP 3120, LOSS: 0.0\n",
      "STEP 3160, LOSS: 0.0\n",
      "STEP 3200, LOSS: 0.0\n",
      "STEP 3240, LOSS: 0.0\n",
      "STEP 3280, LOSS: 0.0\n",
      "STEP 3320, LOSS: 0.0\n",
      "STEP 3360, LOSS: 0.0\n",
      "STEP 3400, LOSS: 0.0\n",
      "STEP 3440, LOSS: 0.0\n",
      "STEP 3480, LOSS: 0.0\n",
      "STEP 3520, LOSS: 0.0\n",
      "STEP 3560, LOSS: 0.0\n",
      "STEP 3600, LOSS: 0.0\n",
      "STEP 3640, LOSS: 0.0\n",
      "STEP 3680, LOSS: 0.0\n",
      "STEP 3720, LOSS: 0.0\n",
      "STEP 3760, LOSS: 0.0\n",
      "STEP 3800, LOSS: 0.0\n",
      "STEP 3840, LOSS: 0.0\n",
      "STEP 3880, LOSS: 0.0\n",
      "STEP 3920, LOSS: 0.0\n",
      "STEP 3960, LOSS: 0.0\n",
      "STEP 4000, LOSS: 0.0\n",
      "STEP 4040, LOSS: 0.0\n",
      "STEP 4080, LOSS: 0.0\n",
      "STEP 4120, LOSS: 0.0\n",
      "STEP 4160, LOSS: 0.0\n",
      "STEP 4200, LOSS: 0.0\n",
      "STEP 4240, LOSS: 0.0\n",
      "STEP 4280, LOSS: 0.0\n",
      "STEP 4320, LOSS: 0.0\n",
      "STEP 4360, LOSS: 0.0\n",
      "STEP 4400, LOSS: 0.0\n",
      "STEP 4440, LOSS: 0.0\n",
      "STEP 4480, LOSS: 0.0\n",
      "STEP 4520, LOSS: 0.0\n",
      "STEP 4560, LOSS: 0.0\n",
      "STEP 4600, LOSS: 0.0\n",
      "STEP 4640, LOSS: 0.0\n",
      "STEP 4680, LOSS: 0.0\n",
      "STEP 4720, LOSS: 0.0\n",
      "STEP 4760, LOSS: 0.0\n",
      "STEP 4800, LOSS: 0.0\n",
      "STEP 4840, LOSS: 0.0\n",
      "STEP 4880, LOSS: 0.0\n",
      "STEP 4920, LOSS: 0.0\n",
      "STEP 4960, LOSS: 0.0\n",
      "STEP 5000, LOSS: 0.0\n"
     ]
    }
   ],
   "source": [
    "w, b, MSE_iter = gradient_descent(steps = 5000)"
   ]
  },
  {
   "cell_type": "markdown",
   "metadata": {},
   "source": [
    "## 3.1 Plotting the best fit line"
   ]
  },
  {
   "cell_type": "code",
   "execution_count": 642,
   "metadata": {},
   "outputs": [
    {
     "data": {
      "image/png": "[encoded data removed]",
      "text/plain": [
       "<Figure size 432x288 with 1 Axes>"
      ]
     },
     "metadata": {},
     "output_type": "display_data"
    }
   ],
   "source": [
    "try:\n",
    "    plt.scatter(x, y);\n",
    "    plt.plot(x, np.dot(x, w) + b, color = \"r\");\n",
    "except ValueError:\n",
    "    print(\"Data is not two dimensional!\")"
   ]
  },
  {
   "cell_type": "markdown",
   "metadata": {},
   "source": [
    "## 3.2 Loss values over Iteration"
   ]
  },
  {
   "cell_type": "code",
   "execution_count": 643,
   "metadata": {},
   "outputs": [
    {
     "data": {
      "image/png": "[encoded data removed]",
      "text/plain": [
       "<Figure size 432x288 with 1 Axes>"
      ]
     },
     "metadata": {},
     "output_type": "display_data"
    }
   ],
   "source": [
    "plt.plot(MSE_iter);"
   ]
  },
  {
   "cell_type": "markdown",
   "metadata": {},
   "source": [
    "## 4. Making Prediction"
   ]
  },
  {
   "cell_type": "code",
   "execution_count": 644,
   "metadata": {},
   "outputs": [],
   "source": [
    "def predict(data = x, weight = w, bias = b):\n",
    "    return round(np.add(np.dot(data, weight), bias)[0], 3)"
   ]
  }
 ],
 "metadata": {
  "kernelspec": {
   "display_name": "Python 3",
   "language": "python",
   "name": "python3"
  },
  "language_info": {
   "codemirror_mode": {
    "name": "ipython",
    "version": 3
   },
   "file_extension": ".py",
   "mimetype": "text/x-python",
   "name": "python",
   "nbconvert_exporter": "python",
   "pygments_lexer": "ipython3",
   "version": "3.8.3"
  }
 },
 "nbformat": 4,
 "nbformat_minor": 4
}
